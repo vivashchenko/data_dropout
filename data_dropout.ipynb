{
 "cells": [
  {
   "cell_type": "code",
   "execution_count": 82,
   "metadata": {},
   "outputs": [],
   "source": [
    "import pandas as pd\n",
    "import numpy as np\n",
    "import seaborn as sns\n",
    "import matplotlib.pyplot as plt\n",
    "\n",
    "from matplotlib import pyplot"
   ]
  },
  {
   "cell_type": "code",
   "execution_count": 96,
   "metadata": {},
   "outputs": [],
   "source": [
    "file = \"data.csv\"\n",
    "data = pd.read_csv(file,decimal=',')"
   ]
  },
  {
   "cell_type": "code",
   "execution_count": 97,
   "metadata": {},
   "outputs": [],
   "source": [
    "corr_coef = data.corr()"
   ]
  },
  {
   "cell_type": "code",
   "execution_count": 98,
   "metadata": {},
   "outputs": [
    {
     "data": {
      "text/plain": [
       "<AxesSubplot:>"
      ]
     },
     "execution_count": 98,
     "metadata": {},
     "output_type": "execute_result"
    },
    {
     "data": {
      "image/png": "[encoded data removed]",
      "text/plain": [
       "<Figure size 432x288 with 2 Axes>"
      ]
     },
     "metadata": {
      "needs_background": "light"
     },
     "output_type": "display_data"
    }
   ],
   "source": [
    "mask = np.triu(np.ones_like(corr_coef, dtype=bool))\n",
    "cmap = sns.diverging_palette(230, 20, as_cmap=True)\n",
    "sns.heatmap(corr_coef, mask=mask, cmap=cmap, vmax=0.9, vmin=-0.9, center=0,\n",
    "            square=True, linewidths=.5, cbar_kws={\"shrink\": .5})\n",
    "#по цвету видим, что есть сильные корреляции между некоторыми признаками"
   ]
  },
  {
   "cell_type": "code",
   "execution_count": 99,
   "metadata": {},
   "outputs": [
    {
     "name": "stdout",
     "output_type": "stream",
     "text": [
      "Trades  <--->  p2 Correlation:  0.9310933269494287\n",
      "ProfitableTrades  <--->  MatOzhidanie Correlation:  0.90846498196902\n"
     ]
    }
   ],
   "source": [
    "сor_columns = [i for i in corr_coef if corr_coef[i].isnull().drop_duplicates().values[0]]\n",
    "for i in corr_coef:\n",
    "    for j in corr_coef.index[corr_coef[i] > 0.9]:\n",
    "        if i != j and j not in сor_columns and i not in сor_columns:\n",
    "            сor_columns.append(j)\n",
    "            print(i, ' <---> ',j, 'Correlation: ',corr_coef[i][corr_coef.index==j].values[0])\n",
    "#ищем признаки с корреляцией больше 0.9"
   ]
  },
  {
   "cell_type": "code",
   "execution_count": 100,
   "metadata": {},
   "outputs": [],
   "source": [
    "for i in сor_columns:\n",
    "    del data[i]"
   ]
  },
  {
   "cell_type": "code",
   "execution_count": 106,
   "metadata": {},
   "outputs": [],
   "source": [
    "newdata = data.T"
   ]
  },
  {
   "cell_type": "code",
   "execution_count": 107,
   "metadata": {},
   "outputs": [
    {
     "name": "stdout",
     "output_type": "stream",
     "text": [
      "0  <--->  1 Correlation:  0.9981870894949875\n",
      "0  <--->  2 Correlation:  0.9996230484443458\n",
      "0  <--->  3 Correlation:  0.9976885696149392\n",
      "0  <--->  4 Correlation:  0.9998345502294814\n",
      "0  <--->  5 Correlation:  0.9995344355795144\n",
      "0  <--->  6 Correlation:  0.999692716249651\n",
      "0  <--->  7 Correlation:  0.9985126835636976\n",
      "0  <--->  8 Correlation:  0.9969937063250824\n",
      "0  <--->  9 Correlation:  0.9965007300226788\n",
      "0  <--->  10 Correlation:  0.9337517216859972\n",
      "0  <--->  11 Correlation:  0.9412836592726418\n",
      "0  <--->  12 Correlation:  0.92371215900386\n",
      "0  <--->  13 Correlation:  0.9353975759785617\n",
      "0  <--->  14 Correlation:  0.9428661805881826\n",
      "0  <--->  24 Correlation:  0.9484836425910113\n",
      "0  <--->  26 Correlation:  0.9589703000083436\n",
      "15  <--->  16 Correlation:  0.9992406809517002\n",
      "15  <--->  17 Correlation:  0.9981082667716894\n",
      "15  <--->  18 Correlation:  0.9988713723016782\n",
      "15  <--->  19 Correlation:  0.9955944242000885\n",
      "15  <--->  20 Correlation:  0.9922510622106111\n",
      "15  <--->  21 Correlation:  0.9885925380118954\n",
      "15  <--->  22 Correlation:  0.978100191929565\n",
      "15  <--->  23 Correlation:  0.9602962349525663\n",
      "15  <--->  25 Correlation:  0.9621225248931409\n",
      "15  <--->  27 Correlation:  0.9827519427019284\n",
      "15  <--->  28 Correlation:  0.9435771173415665\n",
      "15  <--->  29 Correlation:  0.9450035141074087\n",
      "15  <--->  30 Correlation:  0.9386635300596791\n",
      "15  <--->  31 Correlation:  0.9307545620297009\n",
      "15  <--->  32 Correlation:  0.9335743379799804\n",
      "15  <--->  33 Correlation:  0.9681706637736621\n",
      "15  <--->  34 Correlation:  0.9490878085375877\n",
      "15  <--->  36 Correlation:  0.9494598862120441\n",
      "15  <--->  37 Correlation:  0.934690756854621\n",
      "15  <--->  38 Correlation:  0.9427557202106003\n",
      "39  <--->  40 Correlation:  0.9343204142282371\n"
     ]
    }
   ],
   "source": [
    "corr_coef = newdata.corr()\n",
    "сor_columns = []\n",
    "for i in corr_coef:\n",
    "    for j in corr_coef.index[corr_coef[i] > 0.92]:\n",
    "        if i != j and j not in сor_columns and i not in сor_columns:\n",
    "            сor_columns.append(j)\n",
    "            print(i, ' <---> ',j, 'Correlation: ',corr_coef[i][corr_coef.index==j].values[0])\n",
    "#ищем признаки с корреляцией больше 0.9"
   ]
  },
  {
   "cell_type": "code",
   "execution_count": 108,
   "metadata": {},
   "outputs": [],
   "source": [
    "for i in сor_columns:\n",
    "    del newdata[i]"
   ]
  },
  {
   "cell_type": "code",
   "execution_count": 109,
   "metadata": {},
   "outputs": [
    {
     "data": {
      "text/html": [
       "<div>\n",
       "<style scoped>\n",
       "    .dataframe tbody tr th:only-of-type {\n",
       "        vertical-align: middle;\n",
       "    }\n",
       "\n",
       "    .dataframe tbody tr th {\n",
       "        vertical-align: top;\n",
       "    }\n",
       "\n",
       "    .dataframe thead th {\n",
       "        text-align: right;\n",
       "    }\n",
       "</style>\n",
       "<table border=\"1\" class=\"dataframe\">\n",
       "  <thead>\n",
       "    <tr style=\"text-align: right;\">\n",
       "      <th></th>\n",
       "      <th>0</th>\n",
       "      <th>15</th>\n",
       "      <th>35</th>\n",
       "      <th>39</th>\n",
       "      <th>41</th>\n",
       "    </tr>\n",
       "  </thead>\n",
       "  <tbody>\n",
       "    <tr>\n",
       "      <th>Profit</th>\n",
       "      <td>84.86</td>\n",
       "      <td>73.94</td>\n",
       "      <td>39.78</td>\n",
       "      <td>33.97</td>\n",
       "      <td>32.41</td>\n",
       "    </tr>\n",
       "    <tr>\n",
       "      <th>Trades</th>\n",
       "      <td>90.00</td>\n",
       "      <td>34.00</td>\n",
       "      <td>11.00</td>\n",
       "      <td>11.00</td>\n",
       "      <td>10.00</td>\n",
       "    </tr>\n",
       "    <tr>\n",
       "      <th>ProfitableTrades</th>\n",
       "      <td>0.59</td>\n",
       "      <td>0.71</td>\n",
       "      <td>0.82</td>\n",
       "      <td>0.91</td>\n",
       "      <td>0.90</td>\n",
       "    </tr>\n",
       "    <tr>\n",
       "      <th>Profitability</th>\n",
       "      <td>1.54</td>\n",
       "      <td>3.79</td>\n",
       "      <td>7.51</td>\n",
       "      <td>30.48</td>\n",
       "      <td>197.83</td>\n",
       "    </tr>\n",
       "    <tr>\n",
       "      <th>RiskFactor</th>\n",
       "      <td>2.18</td>\n",
       "      <td>4.08</td>\n",
       "      <td>3.80</td>\n",
       "      <td>3.40</td>\n",
       "      <td>3.51</td>\n",
       "    </tr>\n",
       "    <tr>\n",
       "      <th>p1</th>\n",
       "      <td>0.80</td>\n",
       "      <td>1.60</td>\n",
       "      <td>2.20</td>\n",
       "      <td>1.80</td>\n",
       "      <td>1.80</td>\n",
       "    </tr>\n",
       "    <tr>\n",
       "      <th>p3</th>\n",
       "      <td>-0.80</td>\n",
       "      <td>-0.80</td>\n",
       "      <td>-0.60</td>\n",
       "      <td>-0.80</td>\n",
       "      <td>-0.80</td>\n",
       "    </tr>\n",
       "    <tr>\n",
       "      <th>p4</th>\n",
       "      <td>0.10</td>\n",
       "      <td>0.30</td>\n",
       "      <td>0.30</td>\n",
       "      <td>0.10</td>\n",
       "      <td>0.10</td>\n",
       "    </tr>\n",
       "    <tr>\n",
       "      <th>p5</th>\n",
       "      <td>1.40</td>\n",
       "      <td>1.00</td>\n",
       "      <td>2.60</td>\n",
       "      <td>1.40</td>\n",
       "      <td>1.80</td>\n",
       "    </tr>\n",
       "    <tr>\n",
       "      <th>p6</th>\n",
       "      <td>45.00</td>\n",
       "      <td>45.00</td>\n",
       "      <td>45.00</td>\n",
       "      <td>9.00</td>\n",
       "      <td>9.00</td>\n",
       "    </tr>\n",
       "    <tr>\n",
       "      <th>p8</th>\n",
       "      <td>1.00</td>\n",
       "      <td>3.00</td>\n",
       "      <td>1.00</td>\n",
       "      <td>1.00</td>\n",
       "      <td>1.00</td>\n",
       "    </tr>\n",
       "  </tbody>\n",
       "</table>\n",
       "</div>"
      ],
      "text/plain": [
       "                     0      15     35     39      41\n",
       "Profit            84.86  73.94  39.78  33.97   32.41\n",
       "Trades            90.00  34.00  11.00  11.00   10.00\n",
       "ProfitableTrades   0.59   0.71   0.82   0.91    0.90\n",
       "Profitability      1.54   3.79   7.51  30.48  197.83\n",
       "RiskFactor         2.18   4.08   3.80   3.40    3.51\n",
       "p1                 0.80   1.60   2.20   1.80    1.80\n",
       "p3                -0.80  -0.80  -0.60  -0.80   -0.80\n",
       "p4                 0.10   0.30   0.30   0.10    0.10\n",
       "p5                 1.40   1.00   2.60   1.40    1.80\n",
       "p6                45.00  45.00  45.00   9.00    9.00\n",
       "p8                 1.00   3.00   1.00   1.00    1.00"
      ]
     },
     "execution_count": 109,
     "metadata": {},
     "output_type": "execute_result"
    }
   ],
   "source": [
    "newdata"
   ]
  },
  {
   "cell_type": "code",
   "execution_count": 110,
   "metadata": {},
   "outputs": [],
   "source": [
    "answer = newdata.T"
   ]
  },
  {
   "cell_type": "code",
   "execution_count": 111,
   "metadata": {},
   "outputs": [
    {
     "data": {
      "text/html": [
       "<div>\n",
       "<style scoped>\n",
       "    .dataframe tbody tr th:only-of-type {\n",
       "        vertical-align: middle;\n",
       "    }\n",
       "\n",
       "    .dataframe tbody tr th {\n",
       "        vertical-align: top;\n",
       "    }\n",
       "\n",
       "    .dataframe thead th {\n",
       "        text-align: right;\n",
       "    }\n",
       "</style>\n",
       "<table border=\"1\" class=\"dataframe\">\n",
       "  <thead>\n",
       "    <tr style=\"text-align: right;\">\n",
       "      <th></th>\n",
       "      <th>Profit</th>\n",
       "      <th>Trades</th>\n",
       "      <th>ProfitableTrades</th>\n",
       "      <th>Profitability</th>\n",
       "      <th>RiskFactor</th>\n",
       "      <th>p1</th>\n",
       "      <th>p3</th>\n",
       "      <th>p4</th>\n",
       "      <th>p5</th>\n",
       "      <th>p6</th>\n",
       "      <th>p8</th>\n",
       "    </tr>\n",
       "  </thead>\n",
       "  <tbody>\n",
       "    <tr>\n",
       "      <th>0</th>\n",
       "      <td>84.86</td>\n",
       "      <td>90.0</td>\n",
       "      <td>0.59</td>\n",
       "      <td>1.54</td>\n",
       "      <td>2.18</td>\n",
       "      <td>0.8</td>\n",
       "      <td>-0.8</td>\n",
       "      <td>0.1</td>\n",
       "      <td>1.4</td>\n",
       "      <td>45.0</td>\n",
       "      <td>1.0</td>\n",
       "    </tr>\n",
       "    <tr>\n",
       "      <th>15</th>\n",
       "      <td>73.94</td>\n",
       "      <td>34.0</td>\n",
       "      <td>0.71</td>\n",
       "      <td>3.79</td>\n",
       "      <td>4.08</td>\n",
       "      <td>1.6</td>\n",
       "      <td>-0.8</td>\n",
       "      <td>0.3</td>\n",
       "      <td>1.0</td>\n",
       "      <td>45.0</td>\n",
       "      <td>3.0</td>\n",
       "    </tr>\n",
       "    <tr>\n",
       "      <th>35</th>\n",
       "      <td>39.78</td>\n",
       "      <td>11.0</td>\n",
       "      <td>0.82</td>\n",
       "      <td>7.51</td>\n",
       "      <td>3.80</td>\n",
       "      <td>2.2</td>\n",
       "      <td>-0.6</td>\n",
       "      <td>0.3</td>\n",
       "      <td>2.6</td>\n",
       "      <td>45.0</td>\n",
       "      <td>1.0</td>\n",
       "    </tr>\n",
       "    <tr>\n",
       "      <th>39</th>\n",
       "      <td>33.97</td>\n",
       "      <td>11.0</td>\n",
       "      <td>0.91</td>\n",
       "      <td>30.48</td>\n",
       "      <td>3.40</td>\n",
       "      <td>1.8</td>\n",
       "      <td>-0.8</td>\n",
       "      <td>0.1</td>\n",
       "      <td>1.4</td>\n",
       "      <td>9.0</td>\n",
       "      <td>1.0</td>\n",
       "    </tr>\n",
       "    <tr>\n",
       "      <th>41</th>\n",
       "      <td>32.41</td>\n",
       "      <td>10.0</td>\n",
       "      <td>0.90</td>\n",
       "      <td>197.83</td>\n",
       "      <td>3.51</td>\n",
       "      <td>1.8</td>\n",
       "      <td>-0.8</td>\n",
       "      <td>0.1</td>\n",
       "      <td>1.8</td>\n",
       "      <td>9.0</td>\n",
       "      <td>1.0</td>\n",
       "    </tr>\n",
       "  </tbody>\n",
       "</table>\n",
       "</div>"
      ],
      "text/plain": [
       "    Profit  Trades  ProfitableTrades  Profitability  RiskFactor   p1   p3  \\\n",
       "0    84.86    90.0              0.59           1.54        2.18  0.8 -0.8   \n",
       "15   73.94    34.0              0.71           3.79        4.08  1.6 -0.8   \n",
       "35   39.78    11.0              0.82           7.51        3.80  2.2 -0.6   \n",
       "39   33.97    11.0              0.91          30.48        3.40  1.8 -0.8   \n",
       "41   32.41    10.0              0.90         197.83        3.51  1.8 -0.8   \n",
       "\n",
       "     p4   p5    p6   p8  \n",
       "0   0.1  1.4  45.0  1.0  \n",
       "15  0.3  1.0  45.0  3.0  \n",
       "35  0.3  2.6  45.0  1.0  \n",
       "39  0.1  1.4   9.0  1.0  \n",
       "41  0.1  1.8   9.0  1.0  "
      ]
     },
     "execution_count": 111,
     "metadata": {},
     "output_type": "execute_result"
    }
   ],
   "source": [
    "answer"
   ]
  },
  {
   "cell_type": "markdown",
   "metadata": {},
   "source": [
    "Осталось 5 строк и 6 меняемых параметров. Также убрали скоррелированные целевые параметры (это можно не делать)."
   ]
  }
 ],
 "metadata": {
  "kernelspec": {
   "display_name": "Python 3",
   "language": "python",
   "name": "python3"
  },
  "language_info": {
   "codemirror_mode": {
    "name": "ipython",
    "version": 3
   },
   "file_extension": ".py",
   "mimetype": "text/x-python",
   "name": "python",
   "nbconvert_exporter": "python",
   "pygments_lexer": "ipython3",
   "version": "3.8.10"
  }
 },
 "nbformat": 4,
 "nbformat_minor": 4
}
